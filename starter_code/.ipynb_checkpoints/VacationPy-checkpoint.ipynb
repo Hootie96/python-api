{
 "cells": [
  {
   "cell_type": "markdown",
   "metadata": {},
   "source": [
    "# VacationPy\n",
    "----\n",
    "\n",
    "#### Note\n",
    "* Keep an eye on your API usage. Use https://developers.google.com/maps/reporting/gmp-reporting as reference for how to monitor your usage and billing.\n",
    "\n",
    "* Instructions have been included for each segment. You do not have to follow them exactly, but they are included to help you think through the steps."
   ]
  },
  {
   "cell_type": "code",
   "execution_count": 14,
   "metadata": {},
   "outputs": [
    {
     "name": "stdout",
     "output_type": "stream",
     "text": [
      "Requirement already satisfied: gmaps in c:\\users\\kaleb\\anaconda3\\lib\\site-packages (0.9.0)\n",
      "Requirement already satisfied: ipywidgets>=7.0.0 in c:\\users\\kaleb\\anaconda3\\lib\\site-packages (from gmaps) (7.5.1)\n",
      "Requirement already satisfied: ipython>=5.3.0 in c:\\users\\kaleb\\anaconda3\\lib\\site-packages (from gmaps) (7.16.1)\n",
      "Requirement already satisfied: geojson>=2.0.0 in c:\\users\\kaleb\\anaconda3\\lib\\site-packages (from gmaps) (2.5.0)\n",
      "Requirement already satisfied: six in c:\\users\\kaleb\\anaconda3\\lib\\site-packages (from gmaps) (1.15.0)\n",
      "Requirement already satisfied: traitlets>=4.3.0 in c:\\users\\kaleb\\anaconda3\\lib\\site-packages (from gmaps) (4.3.3)\n",
      "Requirement already satisfied: ipykernel>=4.5.1 in c:\\users\\kaleb\\anaconda3\\lib\\site-packages (from ipywidgets>=7.0.0->gmaps) (5.3.2)\n",
      "Requirement already satisfied: widgetsnbextension~=3.5.0 in c:\\users\\kaleb\\anaconda3\\lib\\site-packages (from ipywidgets>=7.0.0->gmaps) (3.5.1)\n",
      "Requirement already satisfied: nbformat>=4.2.0 in c:\\users\\kaleb\\anaconda3\\lib\\site-packages (from ipywidgets>=7.0.0->gmaps) (5.0.7)\n",
      "Requirement already satisfied: prompt-toolkit!=3.0.0,!=3.0.1,<3.1.0,>=2.0.0 in c:\\users\\kaleb\\anaconda3\\lib\\site-packages (from ipython>=5.3.0->gmaps) (3.0.5)\n",
      "Requirement already satisfied: decorator in c:\\users\\kaleb\\anaconda3\\lib\\site-packages (from ipython>=5.3.0->gmaps) (4.4.2)\n",
      "Requirement already satisfied: pygments in c:\\users\\kaleb\\anaconda3\\lib\\site-packages (from ipython>=5.3.0->gmaps) (2.6.1)\n",
      "Requirement already satisfied: backcall in c:\\users\\kaleb\\anaconda3\\lib\\site-packages (from ipython>=5.3.0->gmaps) (0.2.0)\n",
      "Requirement already satisfied: pickleshare in c:\\users\\kaleb\\anaconda3\\lib\\site-packages (from ipython>=5.3.0->gmaps) (0.7.5)\n",
      "Requirement already satisfied: colorama; sys_platform == \"win32\" in c:\\users\\kaleb\\anaconda3\\lib\\site-packages (from ipython>=5.3.0->gmaps) (0.4.3)\n",
      "Requirement already satisfied: jedi>=0.10 in c:\\users\\kaleb\\anaconda3\\lib\\site-packages (from ipython>=5.3.0->gmaps) (0.17.1)\n",
      "Requirement already satisfied: setuptools>=18.5 in c:\\users\\kaleb\\anaconda3\\lib\\site-packages (from ipython>=5.3.0->gmaps) (49.2.0.post20200714)\n",
      "Requirement already satisfied: ipython-genutils in c:\\users\\kaleb\\anaconda3\\lib\\site-packages (from traitlets>=4.3.0->gmaps) (0.2.0)\n",
      "Requirement already satisfied: jupyter-client in c:\\users\\kaleb\\anaconda3\\lib\\site-packages (from ipykernel>=4.5.1->ipywidgets>=7.0.0->gmaps) (6.1.6)\n",
      "Requirement already satisfied: tornado>=4.2 in c:\\users\\kaleb\\anaconda3\\lib\\site-packages (from ipykernel>=4.5.1->ipywidgets>=7.0.0->gmaps) (6.0.4)\n",
      "Requirement already satisfied: notebook>=4.4.1 in c:\\users\\kaleb\\anaconda3\\lib\\site-packages (from widgetsnbextension~=3.5.0->ipywidgets>=7.0.0->gmaps) (6.0.3)\n",
      "Requirement already satisfied: jupyter-core in c:\\users\\kaleb\\anaconda3\\lib\\site-packages (from nbformat>=4.2.0->ipywidgets>=7.0.0->gmaps) (4.6.3)\n",
      "Requirement already satisfied: jsonschema!=2.5.0,>=2.4 in c:\\users\\kaleb\\anaconda3\\lib\\site-packages (from nbformat>=4.2.0->ipywidgets>=7.0.0->gmaps) (3.2.0)\n",
      "Requirement already satisfied: wcwidth in c:\\users\\kaleb\\anaconda3\\lib\\site-packages (from prompt-toolkit!=3.0.0,!=3.0.1,<3.1.0,>=2.0.0->ipython>=5.3.0->gmaps) (0.2.5)\n",
      "Requirement already satisfied: parso<0.8.0,>=0.7.0 in c:\\users\\kaleb\\anaconda3\\lib\\site-packages (from jedi>=0.10->ipython>=5.3.0->gmaps) (0.7.0)\n",
      "Requirement already satisfied: pyzmq>=13 in c:\\users\\kaleb\\anaconda3\\lib\\site-packages (from jupyter-client->ipykernel>=4.5.1->ipywidgets>=7.0.0->gmaps) (19.0.1)\n",
      "Requirement already satisfied: python-dateutil>=2.1 in c:\\users\\kaleb\\anaconda3\\lib\\site-packages (from jupyter-client->ipykernel>=4.5.1->ipywidgets>=7.0.0->gmaps) (2.8.1)\n",
      "Requirement already satisfied: terminado>=0.8.1 in c:\\users\\kaleb\\anaconda3\\lib\\site-packages (from notebook>=4.4.1->widgetsnbextension~=3.5.0->ipywidgets>=7.0.0->gmaps) (0.8.3)\n",
      "Requirement already satisfied: jinja2 in c:\\users\\kaleb\\anaconda3\\lib\\site-packages (from notebook>=4.4.1->widgetsnbextension~=3.5.0->ipywidgets>=7.0.0->gmaps) (2.11.2)\n",
      "Requirement already satisfied: prometheus-client in c:\\users\\kaleb\\anaconda3\\lib\\site-packages (from notebook>=4.4.1->widgetsnbextension~=3.5.0->ipywidgets>=7.0.0->gmaps) (0.8.0)\n",
      "Requirement already satisfied: Send2Trash in c:\\users\\kaleb\\anaconda3\\lib\\site-packages (from notebook>=4.4.1->widgetsnbextension~=3.5.0->ipywidgets>=7.0.0->gmaps) (1.5.0)\n",
      "Requirement already satisfied: nbconvert in c:\\users\\kaleb\\anaconda3\\lib\\site-packages (from notebook>=4.4.1->widgetsnbextension~=3.5.0->ipywidgets>=7.0.0->gmaps) (5.6.1)\n",
      "Requirement already satisfied: pywin32>=1.0; sys_platform == \"win32\" in c:\\users\\kaleb\\anaconda3\\lib\\site-packages (from jupyter-core->nbformat>=4.2.0->ipywidgets>=7.0.0->gmaps) (227)\n",
      "Requirement already satisfied: attrs>=17.4.0 in c:\\users\\kaleb\\anaconda3\\lib\\site-packages (from jsonschema!=2.5.0,>=2.4->nbformat>=4.2.0->ipywidgets>=7.0.0->gmaps) (19.3.0)\n",
      "Requirement already satisfied: pyrsistent>=0.14.0 in c:\\users\\kaleb\\anaconda3\\lib\\site-packages (from jsonschema!=2.5.0,>=2.4->nbformat>=4.2.0->ipywidgets>=7.0.0->gmaps) (0.16.0)\n",
      "Requirement already satisfied: MarkupSafe>=0.23 in c:\\users\\kaleb\\anaconda3\\lib\\site-packages (from jinja2->notebook>=4.4.1->widgetsnbextension~=3.5.0->ipywidgets>=7.0.0->gmaps) (1.1.1)\n",
      "Requirement already satisfied: testpath in c:\\users\\kaleb\\anaconda3\\lib\\site-packages (from nbconvert->notebook>=4.4.1->widgetsnbextension~=3.5.0->ipywidgets>=7.0.0->gmaps) (0.4.4)\n",
      "Requirement already satisfied: entrypoints>=0.2.2 in c:\\users\\kaleb\\anaconda3\\lib\\site-packages (from nbconvert->notebook>=4.4.1->widgetsnbextension~=3.5.0->ipywidgets>=7.0.0->gmaps) (0.3)\n",
      "Requirement already satisfied: bleach in c:\\users\\kaleb\\anaconda3\\lib\\site-packages (from nbconvert->notebook>=4.4.1->widgetsnbextension~=3.5.0->ipywidgets>=7.0.0->gmaps) (3.1.5)\n",
      "Requirement already satisfied: defusedxml in c:\\users\\kaleb\\anaconda3\\lib\\site-packages (from nbconvert->notebook>=4.4.1->widgetsnbextension~=3.5.0->ipywidgets>=7.0.0->gmaps) (0.6.0)\n",
      "Requirement already satisfied: pandocfilters>=1.4.1 in c:\\users\\kaleb\\anaconda3\\lib\\site-packages (from nbconvert->notebook>=4.4.1->widgetsnbextension~=3.5.0->ipywidgets>=7.0.0->gmaps) (1.4.2)\n",
      "Requirement already satisfied: mistune<2,>=0.8.1 in c:\\users\\kaleb\\anaconda3\\lib\\site-packages (from nbconvert->notebook>=4.4.1->widgetsnbextension~=3.5.0->ipywidgets>=7.0.0->gmaps) (0.8.4)\n",
      "Requirement already satisfied: webencodings in c:\\users\\kaleb\\anaconda3\\lib\\site-packages (from bleach->nbconvert->notebook>=4.4.1->widgetsnbextension~=3.5.0->ipywidgets>=7.0.0->gmaps) (0.5.1)\n",
      "Requirement already satisfied: packaging in c:\\users\\kaleb\\anaconda3\\lib\\site-packages (from bleach->nbconvert->notebook>=4.4.1->widgetsnbextension~=3.5.0->ipywidgets>=7.0.0->gmaps) (20.4)\n",
      "Requirement already satisfied: pyparsing>=2.0.2 in c:\\users\\kaleb\\anaconda3\\lib\\site-packages (from packaging->bleach->nbconvert->notebook>=4.4.1->widgetsnbextension~=3.5.0->ipywidgets>=7.0.0->gmaps) (2.4.7)\n"
     ]
    }
   ],
   "source": [
    "# Dependencies and Setup\n",
    "import sys\n",
    "import matplotlib.pyplot as plt\n",
    "import pandas as pd\n",
    "import numpy as np\n",
    "import requests\n",
    "!pip install gmaps\n",
    "import gmaps\n",
    "import os\n",
    "\n",
    "# Import API key\n",
    "from api_keys import g_key"
   ]
  },
  {
   "cell_type": "markdown",
   "metadata": {},
   "source": [
    "### Store Part I results into DataFrame\n",
    "* Load the csv exported in Part I to a DataFrame"
   ]
  },
  {
   "cell_type": "code",
   "execution_count": 15,
   "metadata": {},
   "outputs": [
    {
     "data": {
      "text/html": [
       "<div>\n",
       "<style scoped>\n",
       "    .dataframe tbody tr th:only-of-type {\n",
       "        vertical-align: middle;\n",
       "    }\n",
       "\n",
       "    .dataframe tbody tr th {\n",
       "        vertical-align: top;\n",
       "    }\n",
       "\n",
       "    .dataframe thead th {\n",
       "        text-align: right;\n",
       "    }\n",
       "</style>\n",
       "<table border=\"1\" class=\"dataframe\">\n",
       "  <thead>\n",
       "    <tr style=\"text-align: right;\">\n",
       "      <th></th>\n",
       "      <th>Unnamed: 0</th>\n",
       "      <th>City</th>\n",
       "      <th>Cloudiness</th>\n",
       "      <th>Country</th>\n",
       "      <th>Date</th>\n",
       "      <th>Humidity</th>\n",
       "      <th>Lat</th>\n",
       "      <th>Lng</th>\n",
       "      <th>Max Temp</th>\n",
       "      <th>Wind Speed</th>\n",
       "    </tr>\n",
       "  </thead>\n",
       "  <tbody>\n",
       "    <tr>\n",
       "      <th>0</th>\n",
       "      <td>0</td>\n",
       "      <td>nikolskoye</td>\n",
       "      <td>90</td>\n",
       "      <td>RU</td>\n",
       "      <td>1603400985</td>\n",
       "      <td>93</td>\n",
       "      <td>59.70</td>\n",
       "      <td>30.79</td>\n",
       "      <td>9.44</td>\n",
       "      <td>3.00</td>\n",
       "    </tr>\n",
       "    <tr>\n",
       "      <th>1</th>\n",
       "      <td>1</td>\n",
       "      <td>busselton</td>\n",
       "      <td>0</td>\n",
       "      <td>AU</td>\n",
       "      <td>1603400966</td>\n",
       "      <td>66</td>\n",
       "      <td>-33.65</td>\n",
       "      <td>115.33</td>\n",
       "      <td>10.00</td>\n",
       "      <td>4.57</td>\n",
       "    </tr>\n",
       "    <tr>\n",
       "      <th>2</th>\n",
       "      <td>2</td>\n",
       "      <td>victoria</td>\n",
       "      <td>100</td>\n",
       "      <td>HK</td>\n",
       "      <td>1603400964</td>\n",
       "      <td>46</td>\n",
       "      <td>22.29</td>\n",
       "      <td>114.16</td>\n",
       "      <td>21.67</td>\n",
       "      <td>5.81</td>\n",
       "    </tr>\n",
       "    <tr>\n",
       "      <th>3</th>\n",
       "      <td>3</td>\n",
       "      <td>mount gambier</td>\n",
       "      <td>30</td>\n",
       "      <td>GB</td>\n",
       "      <td>1603401006</td>\n",
       "      <td>84</td>\n",
       "      <td>53.66</td>\n",
       "      <td>-1.85</td>\n",
       "      <td>7.78</td>\n",
       "      <td>0.45</td>\n",
       "    </tr>\n",
       "    <tr>\n",
       "      <th>4</th>\n",
       "      <td>4</td>\n",
       "      <td>cape town</td>\n",
       "      <td>0</td>\n",
       "      <td>CL</td>\n",
       "      <td>1603400694</td>\n",
       "      <td>24</td>\n",
       "      <td>-36.41</td>\n",
       "      <td>-71.90</td>\n",
       "      <td>26.00</td>\n",
       "      <td>3.10</td>\n",
       "    </tr>\n",
       "  </tbody>\n",
       "</table>\n",
       "</div>"
      ],
      "text/plain": [
       "   Unnamed: 0           City  Cloudiness Country        Date  Humidity    Lat  \\\n",
       "0           0     nikolskoye          90      RU  1603400985        93  59.70   \n",
       "1           1      busselton           0      AU  1603400966        66 -33.65   \n",
       "2           2       victoria         100      HK  1603400964        46  22.29   \n",
       "3           3  mount gambier          30      GB  1603401006        84  53.66   \n",
       "4           4      cape town           0      CL  1603400694        24 -36.41   \n",
       "\n",
       "      Lng  Max Temp  Wind Speed  \n",
       "0   30.79      9.44        3.00  \n",
       "1  115.33     10.00        4.57  \n",
       "2  114.16     21.67        5.81  \n",
       "3   -1.85      7.78        0.45  \n",
       "4  -71.90     26.00        3.10  "
      ]
     },
     "execution_count": 15,
     "metadata": {},
     "output_type": "execute_result"
    }
   ],
   "source": [
    "weather_py = r\"C:\\Users\\Kaleb\\PycharmProjects\\python-api\\output_data\\cities.csv\"\n",
    "cities = pd.read_csv(weather_py)\n",
    "cities.head()\n"
   ]
  },
  {
   "cell_type": "markdown",
   "metadata": {},
   "source": [
    "### Humidity Heatmap\n",
    "* Configure gmaps.\n",
    "* Use the Lat and Lng as locations and Humidity as the weight.\n",
    "* Add Heatmap layer to map."
   ]
  },
  {
   "cell_type": "code",
   "execution_count": 16,
   "metadata": {},
   "outputs": [],
   "source": [
    "gmaps.configure(api_key = g_key)"
   ]
  },
  {
   "cell_type": "code",
   "execution_count": 30,
   "metadata": {},
   "outputs": [
    {
     "data": {
      "text/plain": [
       "100"
      ]
     },
     "execution_count": 30,
     "metadata": {},
     "output_type": "execute_result"
    }
   ],
   "source": [
    "cities=cities.rename(columns = {\"Max Temp\":\"MaxTemp\", \"Wind Speed\":\"WindSpeed\"})\n",
    "cities[\"Humidity\"].max()"
   ]
  },
  {
   "cell_type": "code",
   "execution_count": 31,
   "metadata": {},
   "outputs": [],
   "source": [
    "locations= cities[[\"Lat\", \"Lng\"]]\n",
    "weights=cities[\"Humidity\"]"
   ]
  },
  {
   "cell_type": "code",
   "execution_count": 32,
   "metadata": {},
   "outputs": [
    {
     "data": {
      "application/vnd.jupyter.widget-view+json": {
       "model_id": "796eee550f334da8ace5a8f590843eb6",
       "version_major": 2,
       "version_minor": 0
      },
      "text/plain": [
       "Figure(layout=FigureLayout(height='420px'))"
      ]
     },
     "metadata": {},
     "output_type": "display_data"
    }
   ],
   "source": [
    "fig = gmaps.figure()\n",
    "heat_layer = gmaps.heatmap_layer(\n",
    "    locations, \n",
    "    weights=weights, \n",
    "    dissipating=False,\n",
    "    max_intensity = 100,\n",
    "    point_radius = 3\n",
    ")\n",
    "fig.add_layer(heat_layer)\n",
    "fig"
   ]
  },
  {
   "cell_type": "markdown",
   "metadata": {},
   "source": [
    "### Create new DataFrame fitting weather criteria\n",
    "* Narrow down the cities to fit weather conditions.\n",
    "* Drop any rows will null values."
   ]
  },
  {
   "cell_type": "code",
   "execution_count": 33,
   "metadata": {},
   "outputs": [
    {
     "data": {
      "text/html": [
       "<div>\n",
       "<style scoped>\n",
       "    .dataframe tbody tr th:only-of-type {\n",
       "        vertical-align: middle;\n",
       "    }\n",
       "\n",
       "    .dataframe tbody tr th {\n",
       "        vertical-align: top;\n",
       "    }\n",
       "\n",
       "    .dataframe thead th {\n",
       "        text-align: right;\n",
       "    }\n",
       "</style>\n",
       "<table border=\"1\" class=\"dataframe\">\n",
       "  <thead>\n",
       "    <tr style=\"text-align: right;\">\n",
       "      <th></th>\n",
       "      <th>Unnamed: 0</th>\n",
       "      <th>City</th>\n",
       "      <th>Cloudiness</th>\n",
       "      <th>Country</th>\n",
       "      <th>Date</th>\n",
       "      <th>Humidity</th>\n",
       "      <th>Lat</th>\n",
       "      <th>Lng</th>\n",
       "      <th>MaxTemp</th>\n",
       "      <th>WindSpeed</th>\n",
       "    </tr>\n",
       "  </thead>\n",
       "  <tbody>\n",
       "    <tr>\n",
       "      <th>4</th>\n",
       "      <td>4</td>\n",
       "      <td>cape town</td>\n",
       "      <td>0</td>\n",
       "      <td>CL</td>\n",
       "      <td>1603400694</td>\n",
       "      <td>24</td>\n",
       "      <td>-36.41</td>\n",
       "      <td>-71.90</td>\n",
       "      <td>26.00</td>\n",
       "      <td>3.10</td>\n",
       "    </tr>\n",
       "    <tr>\n",
       "      <th>51</th>\n",
       "      <td>51</td>\n",
       "      <td>salalah</td>\n",
       "      <td>0</td>\n",
       "      <td>OM</td>\n",
       "      <td>1603400991</td>\n",
       "      <td>65</td>\n",
       "      <td>17.02</td>\n",
       "      <td>54.09</td>\n",
       "      <td>26.00</td>\n",
       "      <td>2.60</td>\n",
       "    </tr>\n",
       "    <tr>\n",
       "      <th>57</th>\n",
       "      <td>57</td>\n",
       "      <td>gangapur</td>\n",
       "      <td>0</td>\n",
       "      <td>IN</td>\n",
       "      <td>1603401084</td>\n",
       "      <td>38</td>\n",
       "      <td>26.48</td>\n",
       "      <td>76.72</td>\n",
       "      <td>23.14</td>\n",
       "      <td>0.99</td>\n",
       "    </tr>\n",
       "    <tr>\n",
       "      <th>78</th>\n",
       "      <td>78</td>\n",
       "      <td>pangkalanbuun</td>\n",
       "      <td>0</td>\n",
       "      <td>ID</td>\n",
       "      <td>1603401045</td>\n",
       "      <td>96</td>\n",
       "      <td>-2.68</td>\n",
       "      <td>111.62</td>\n",
       "      <td>23.51</td>\n",
       "      <td>0.63</td>\n",
       "    </tr>\n",
       "    <tr>\n",
       "      <th>104</th>\n",
       "      <td>104</td>\n",
       "      <td>hambantota</td>\n",
       "      <td>0</td>\n",
       "      <td>LK</td>\n",
       "      <td>1603400461</td>\n",
       "      <td>100</td>\n",
       "      <td>6.12</td>\n",
       "      <td>81.12</td>\n",
       "      <td>25.00</td>\n",
       "      <td>3.10</td>\n",
       "    </tr>\n",
       "  </tbody>\n",
       "</table>\n",
       "</div>"
      ],
      "text/plain": [
       "     Unnamed: 0           City  Cloudiness Country        Date  Humidity  \\\n",
       "4             4      cape town           0      CL  1603400694        24   \n",
       "51           51        salalah           0      OM  1603400991        65   \n",
       "57           57       gangapur           0      IN  1603401084        38   \n",
       "78           78  pangkalanbuun           0      ID  1603401045        96   \n",
       "104         104     hambantota           0      LK  1603400461       100   \n",
       "\n",
       "       Lat     Lng  MaxTemp  WindSpeed  \n",
       "4   -36.41  -71.90    26.00       3.10  \n",
       "51   17.02   54.09    26.00       2.60  \n",
       "57   26.48   76.72    23.14       0.99  \n",
       "78   -2.68  111.62    23.51       0.63  \n",
       "104   6.12   81.12    25.00       3.10  "
      ]
     },
     "execution_count": 33,
     "metadata": {},
     "output_type": "execute_result"
    }
   ],
   "source": [
    "min_temp= 21.111\n",
    "max_temp = 26.666\n",
    "wind_speed = 10\n",
    "cloudiness = 0\n",
    "\n",
    "good_cities= cities.query(f\"MaxTemp < {max_temp} and MaxTemp > {min_temp} and WindSpeed < {wind_speed} and Cloudiness == {cloudiness}\")\n",
    "good_cities.head()"
   ]
  },
  {
   "cell_type": "markdown",
   "metadata": {},
   "source": [
    "### Hotel Map\n",
    "* Store into variable named `hotel_df`.\n",
    "* Add a \"Hotel Name\" column to the DataFrame.\n",
    "* Set parameters to search for hotels with 5000 meters.\n",
    "* Hit the Google Places API for each city's coordinates.\n",
    "* Store the first Hotel result into the DataFrame.\n",
    "* Plot markers on top of the heatmap."
   ]
  },
  {
   "cell_type": "code",
   "execution_count": 34,
   "metadata": {},
   "outputs": [
    {
     "name": "stderr",
     "output_type": "stream",
     "text": [
      "<ipython-input-34-b545f72d5298>:2: SettingWithCopyWarning: \n",
      "A value is trying to be set on a copy of a slice from a DataFrame.\n",
      "Try using .loc[row_indexer,col_indexer] = value instead\n",
      "\n",
      "See the caveats in the documentation: https://pandas.pydata.org/pandas-docs/stable/user_guide/indexing.html#returning-a-view-versus-a-copy\n",
      "  hotel_df['Hotel Name']=''\n"
     ]
    },
    {
     "data": {
      "text/html": [
       "<div>\n",
       "<style scoped>\n",
       "    .dataframe tbody tr th:only-of-type {\n",
       "        vertical-align: middle;\n",
       "    }\n",
       "\n",
       "    .dataframe tbody tr th {\n",
       "        vertical-align: top;\n",
       "    }\n",
       "\n",
       "    .dataframe thead th {\n",
       "        text-align: right;\n",
       "    }\n",
       "</style>\n",
       "<table border=\"1\" class=\"dataframe\">\n",
       "  <thead>\n",
       "    <tr style=\"text-align: right;\">\n",
       "      <th></th>\n",
       "      <th>Unnamed: 0</th>\n",
       "      <th>City</th>\n",
       "      <th>Cloudiness</th>\n",
       "      <th>Country</th>\n",
       "      <th>Date</th>\n",
       "      <th>Humidity</th>\n",
       "      <th>Lat</th>\n",
       "      <th>Lng</th>\n",
       "      <th>MaxTemp</th>\n",
       "      <th>WindSpeed</th>\n",
       "      <th>Hotel Name</th>\n",
       "    </tr>\n",
       "  </thead>\n",
       "  <tbody>\n",
       "    <tr>\n",
       "      <th>4</th>\n",
       "      <td>4</td>\n",
       "      <td>cape town</td>\n",
       "      <td>0</td>\n",
       "      <td>CL</td>\n",
       "      <td>1603400694</td>\n",
       "      <td>24</td>\n",
       "      <td>-36.41</td>\n",
       "      <td>-71.90</td>\n",
       "      <td>26.00</td>\n",
       "      <td>3.10</td>\n",
       "      <td></td>\n",
       "    </tr>\n",
       "    <tr>\n",
       "      <th>51</th>\n",
       "      <td>51</td>\n",
       "      <td>salalah</td>\n",
       "      <td>0</td>\n",
       "      <td>OM</td>\n",
       "      <td>1603400991</td>\n",
       "      <td>65</td>\n",
       "      <td>17.02</td>\n",
       "      <td>54.09</td>\n",
       "      <td>26.00</td>\n",
       "      <td>2.60</td>\n",
       "      <td></td>\n",
       "    </tr>\n",
       "    <tr>\n",
       "      <th>57</th>\n",
       "      <td>57</td>\n",
       "      <td>gangapur</td>\n",
       "      <td>0</td>\n",
       "      <td>IN</td>\n",
       "      <td>1603401084</td>\n",
       "      <td>38</td>\n",
       "      <td>26.48</td>\n",
       "      <td>76.72</td>\n",
       "      <td>23.14</td>\n",
       "      <td>0.99</td>\n",
       "      <td></td>\n",
       "    </tr>\n",
       "    <tr>\n",
       "      <th>78</th>\n",
       "      <td>78</td>\n",
       "      <td>pangkalanbuun</td>\n",
       "      <td>0</td>\n",
       "      <td>ID</td>\n",
       "      <td>1603401045</td>\n",
       "      <td>96</td>\n",
       "      <td>-2.68</td>\n",
       "      <td>111.62</td>\n",
       "      <td>23.51</td>\n",
       "      <td>0.63</td>\n",
       "      <td></td>\n",
       "    </tr>\n",
       "    <tr>\n",
       "      <th>104</th>\n",
       "      <td>104</td>\n",
       "      <td>hambantota</td>\n",
       "      <td>0</td>\n",
       "      <td>LK</td>\n",
       "      <td>1603400461</td>\n",
       "      <td>100</td>\n",
       "      <td>6.12</td>\n",
       "      <td>81.12</td>\n",
       "      <td>25.00</td>\n",
       "      <td>3.10</td>\n",
       "      <td></td>\n",
       "    </tr>\n",
       "  </tbody>\n",
       "</table>\n",
       "</div>"
      ],
      "text/plain": [
       "     Unnamed: 0           City  Cloudiness Country        Date  Humidity  \\\n",
       "4             4      cape town           0      CL  1603400694        24   \n",
       "51           51        salalah           0      OM  1603400991        65   \n",
       "57           57       gangapur           0      IN  1603401084        38   \n",
       "78           78  pangkalanbuun           0      ID  1603401045        96   \n",
       "104         104     hambantota           0      LK  1603400461       100   \n",
       "\n",
       "       Lat     Lng  MaxTemp  WindSpeed Hotel Name  \n",
       "4   -36.41  -71.90    26.00       3.10             \n",
       "51   17.02   54.09    26.00       2.60             \n",
       "57   26.48   76.72    23.14       0.99             \n",
       "78   -2.68  111.62    23.51       0.63             \n",
       "104   6.12   81.12    25.00       3.10             "
      ]
     },
     "execution_count": 34,
     "metadata": {},
     "output_type": "execute_result"
    }
   ],
   "source": [
    "hotel_df = good_cities\n",
    "hotel_df['Hotel Name']=''\n",
    "hotel_df.head()"
   ]
  },
  {
   "cell_type": "code",
   "execution_count": null,
   "metadata": {},
   "outputs": [],
   "source": []
  },
  {
   "cell_type": "code",
   "execution_count": 35,
   "metadata": {},
   "outputs": [],
   "source": [
    "# NOTE: Do not change any of the code in this cell\n",
    "\n",
    "# Using the template add the hotel marks to the heatmap\n",
    "info_box_template = \"\"\"\n",
    "<dl>\n",
    "<dt>Name</dt><dd>{Hotel Name}</dd>\n",
    "<dt>City</dt><dd>{City}</dd>\n",
    "<dt>Country</dt><dd>{Country}</dd>\n",
    "</dl>\n",
    "\"\"\"\n",
    "# Store the DataFrame Row\n",
    "# NOTE: be sure to update with your DataFrame name\n",
    "hotel_info = [info_box_template.format(**row) for index, row in hotel_df.iterrows()]\n",
    "locations = hotel_df[[\"Lat\", \"Lng\"]]"
   ]
  },
  {
   "cell_type": "code",
   "execution_count": 37,
   "metadata": {},
   "outputs": [
    {
     "name": "stderr",
     "output_type": "stream",
     "text": [
      "<ipython-input-37-e18913a566ea>:1: SettingWithCopyWarning: \n",
      "A value is trying to be set on a copy of a slice from a DataFrame.\n",
      "Try using .loc[row_indexer,col_indexer] = value instead\n",
      "\n",
      "See the caveats in the documentation: https://pandas.pydata.org/pandas-docs/stable/user_guide/indexing.html#returning-a-view-versus-a-copy\n",
      "  locations[\"Lat\"]= locations[\"Lat\"].astype(str)\n",
      "<ipython-input-37-e18913a566ea>:2: SettingWithCopyWarning: \n",
      "A value is trying to be set on a copy of a slice from a DataFrame.\n",
      "Try using .loc[row_indexer,col_indexer] = value instead\n",
      "\n",
      "See the caveats in the documentation: https://pandas.pydata.org/pandas-docs/stable/user_guide/indexing.html#returning-a-view-versus-a-copy\n",
      "  locations[\"Lng\"]=locations[\"Lng\"].astype(str)\n"
     ]
    }
   ],
   "source": [
    "locations[\"Lat\"]= locations[\"Lat\"].astype(str)\n",
    "locations[\"Lng\"]=locations[\"Lng\"].astype(str)\n"
   ]
  },
  {
   "cell_type": "code",
   "execution_count": 38,
   "metadata": {},
   "outputs": [],
   "source": [
    "hotels = pd.DataFrame({\"City\": hotel_df[\"City\"],\n",
    "                      \"Country\": hotel_df[\"Country\"]})\n",
    "hotels[\"Hotel Name\"]=''\n",
    "hotels[\"Lat\"]=''\n",
    "hotels[\"Lng\"]=''\n"
   ]
  },
  {
   "cell_type": "code",
   "execution_count": null,
   "metadata": {},
   "outputs": [],
   "source": [
    "# Add marker layer ontop of heat map\n",
    "\n",
    "\n",
    "# Display figure\n"
   ]
  },
  {
   "cell_type": "code",
   "execution_count": null,
   "metadata": {},
   "outputs": [],
   "source": []
  }
 ],
 "metadata": {
  "kernelspec": {
   "display_name": "Python 3",
   "language": "python",
   "name": "python3"
  },
  "language_info": {
   "codemirror_mode": {
    "name": "ipython",
    "version": 3
   },
   "file_extension": ".py",
   "mimetype": "text/x-python",
   "name": "python",
   "nbconvert_exporter": "python",
   "pygments_lexer": "ipython3",
   "version": "3.8.3"
  },
  "latex_envs": {
   "LaTeX_envs_menu_present": true,
   "autoclose": false,
   "autocomplete": true,
   "bibliofile": "biblio.bib",
   "cite_by": "apalike",
   "current_citInitial": 1,
   "eqLabelWithNumbers": true,
   "eqNumInitial": 1,
   "hotkeys": {
    "equation": "Ctrl-E",
    "itemize": "Ctrl-I"
   },
   "labels_anchors": false,
   "latex_user_defs": false,
   "report_style_numbering": false,
   "user_envs_cfg": false
  }
 },
 "nbformat": 4,
 "nbformat_minor": 4
}
